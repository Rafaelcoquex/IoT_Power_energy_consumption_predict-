{
 "cells": [
  {
   "cell_type": "markdown",
   "metadata": {},
   "source": [
    "# IoT - Power energy consumption predict "
   ]
  },
  {
   "cell_type": "code",
   "execution_count": 44,
   "metadata": {},
   "outputs": [],
   "source": [
    "# Import packages\n",
    "import pandas as pd\n",
    "import numpy as np\n",
    "import matplotlib.pyplot as plt\n",
    "from sklearn.ensemble.forest import RandomForestRegressor\n",
    "from sklearn.feature_selection import SelectFromModel\n",
    "from sklearn.preprocessing import LabelEncoder\n",
    "import seaborn as sns\n",
    "#from sklearn.feature_selection import RFECV\n",
    "from datetime import datetime\n",
    "from sklearn.datasets import make_regression\n",
    "from sklearn import ensemble\n",
    "from sklearn.model_selection import train_test_split\n",
    "from sklearn.linear_model import LinearRegression\n",
    "from sklearn.metrics import mean_squared_error, r2_score\n",
    "from sklearn.svm import SVR\n",
    "#from sklearn.feature_selection import RFE"
   ]
  },
  {
   "cell_type": "markdown",
   "metadata": {},
   "source": [
    "### Variables description"
   ]
  },
  {
   "cell_type": "markdown",
   "metadata": {},
   "source": [
    "Appliances --> Power consumed\n",
    "\n",
    "Lights --> Power appliance\n",
    "\n",
    "Tx --> Temperatura\n",
    "\n",
    "RH_x --> Umidade Relativa\n",
    "\n",
    "T_out --> Temperatura fora da casa\n",
    "\n",
    "Press_mm_hg  --> Unidade de pressão\n",
    "\n",
    "RH_out --> Umidade fora da casa\n",
    "\n",
    "Visibility --> Visibilidade\n",
    "\n",
    "Tdewpoint --> ponto de condensação\n",
    "\n",
    "rvx --> variavel aleatória"
   ]
  },
  {
   "cell_type": "code",
   "execution_count": 3,
   "metadata": {},
   "outputs": [
    {
     "name": "stdout",
     "output_type": "stream",
     "text": [
      "Train dataset has 14803 lines and 32 variables\n",
      "Test dataset has 4932 lines and 32 variables\n"
     ]
    }
   ],
   "source": [
    "#Import Train and Test dataset\n",
    "df_train = pd.read_csv('projeto8-training.csv')\n",
    "df_test = pd.read_csv('projeto8-testing.csv')\n",
    "print(f'Train dataset has {df_train.shape[0]} lines and {df_train.shape[1]} variables')\n",
    "print(f'Test dataset has {df_test.shape[0]} lines and {df_test.shape[1]} variables')"
   ]
  },
  {
   "cell_type": "markdown",
   "metadata": {},
   "source": [
    "Both dataset have the same amount of columns. Thus, we can concatenate both datasets"
   ]
  },
  {
   "cell_type": "code",
   "execution_count": 4,
   "metadata": {},
   "outputs": [],
   "source": [
    "df = pd.concat([df_train, df_test])"
   ]
  },
  {
   "cell_type": "markdown",
   "metadata": {},
   "source": [
    "### Exploratory Data Analysis"
   ]
  },
  {
   "cell_type": "code",
   "execution_count": 5,
   "metadata": {},
   "outputs": [
    {
     "data": {
      "text/plain": [
       "date           0\n",
       "Appliances     0\n",
       "lights         0\n",
       "T1             0\n",
       "RH_1           0\n",
       "T2             0\n",
       "RH_2           0\n",
       "T3             0\n",
       "RH_3           0\n",
       "T4             0\n",
       "RH_4           0\n",
       "T5             0\n",
       "RH_5           0\n",
       "T6             0\n",
       "RH_6           0\n",
       "T7             0\n",
       "RH_7           0\n",
       "T8             0\n",
       "RH_8           0\n",
       "T9             0\n",
       "RH_9           0\n",
       "T_out          0\n",
       "Press_mm_hg    0\n",
       "RH_out         0\n",
       "Windspeed      0\n",
       "Visibility     0\n",
       "Tdewpoint      0\n",
       "rv1            0\n",
       "rv2            0\n",
       "NSM            0\n",
       "WeekStatus     0\n",
       "Day_of_week    0\n",
       "dtype: int64"
      ]
     },
     "execution_count": 5,
     "metadata": {},
     "output_type": "execute_result"
    }
   ],
   "source": [
    "# Evaluate missing values in the dataset\n",
    "df.isna().sum()"
   ]
  },
  {
   "cell_type": "code",
   "execution_count": 6,
   "metadata": {},
   "outputs": [
    {
     "data": {
      "text/plain": [
       "date           19735\n",
       "Appliances        92\n",
       "lights             8\n",
       "T1               722\n",
       "RH_1            2547\n",
       "T2              1650\n",
       "RH_2            3376\n",
       "T3              1426\n",
       "RH_3            2618\n",
       "T4              1390\n",
       "RH_4            2987\n",
       "T5              2263\n",
       "RH_5            7571\n",
       "T6              4446\n",
       "RH_6            9709\n",
       "T7              1955\n",
       "RH_7            5891\n",
       "T8              2228\n",
       "RH_8            6649\n",
       "T9               924\n",
       "RH_9            3388\n",
       "T_out           1730\n",
       "Press_mm_hg     2189\n",
       "RH_out           566\n",
       "Windspeed        189\n",
       "Visibility       413\n",
       "Tdewpoint       1409\n",
       "rv1            19735\n",
       "rv2            19735\n",
       "NSM              144\n",
       "WeekStatus         2\n",
       "Day_of_week        7\n",
       "dtype: int64"
      ]
     },
     "execution_count": 6,
     "metadata": {},
     "output_type": "execute_result"
    }
   ],
   "source": [
    "# Evaluate the number of unique elements in the dataset\n",
    "df.nunique()"
   ]
  },
  {
   "cell_type": "code",
   "execution_count": 6,
   "metadata": {},
   "outputs": [
    {
     "data": {
      "text/html": [
       "<div>\n",
       "<style scoped>\n",
       "    .dataframe tbody tr th:only-of-type {\n",
       "        vertical-align: middle;\n",
       "    }\n",
       "\n",
       "    .dataframe tbody tr th {\n",
       "        vertical-align: top;\n",
       "    }\n",
       "\n",
       "    .dataframe thead th {\n",
       "        text-align: right;\n",
       "    }\n",
       "</style>\n",
       "<table border=\"1\" class=\"dataframe\">\n",
       "  <thead>\n",
       "    <tr style=\"text-align: right;\">\n",
       "      <th></th>\n",
       "      <th>Appliances</th>\n",
       "      <th>lights</th>\n",
       "      <th>T1</th>\n",
       "      <th>RH_1</th>\n",
       "      <th>T2</th>\n",
       "      <th>RH_2</th>\n",
       "      <th>T3</th>\n",
       "      <th>RH_3</th>\n",
       "      <th>T4</th>\n",
       "      <th>RH_4</th>\n",
       "      <th>...</th>\n",
       "      <th>RH_9</th>\n",
       "      <th>T_out</th>\n",
       "      <th>Press_mm_hg</th>\n",
       "      <th>RH_out</th>\n",
       "      <th>Windspeed</th>\n",
       "      <th>Visibility</th>\n",
       "      <th>Tdewpoint</th>\n",
       "      <th>rv1</th>\n",
       "      <th>rv2</th>\n",
       "      <th>NSM</th>\n",
       "    </tr>\n",
       "  </thead>\n",
       "  <tbody>\n",
       "    <tr>\n",
       "      <th>count</th>\n",
       "      <td>19735.000000</td>\n",
       "      <td>19735.000000</td>\n",
       "      <td>19735.000000</td>\n",
       "      <td>19735.000000</td>\n",
       "      <td>19735.000000</td>\n",
       "      <td>19735.000000</td>\n",
       "      <td>19735.000000</td>\n",
       "      <td>19735.000000</td>\n",
       "      <td>19735.000000</td>\n",
       "      <td>19735.000000</td>\n",
       "      <td>...</td>\n",
       "      <td>19735.000000</td>\n",
       "      <td>19735.000000</td>\n",
       "      <td>19735.000000</td>\n",
       "      <td>19735.000000</td>\n",
       "      <td>19735.000000</td>\n",
       "      <td>19735.000000</td>\n",
       "      <td>19735.000000</td>\n",
       "      <td>19735.000000</td>\n",
       "      <td>19735.000000</td>\n",
       "      <td>19735.000000</td>\n",
       "    </tr>\n",
       "    <tr>\n",
       "      <th>mean</th>\n",
       "      <td>97.694958</td>\n",
       "      <td>3.801875</td>\n",
       "      <td>21.686571</td>\n",
       "      <td>40.259739</td>\n",
       "      <td>20.341219</td>\n",
       "      <td>40.420420</td>\n",
       "      <td>22.267611</td>\n",
       "      <td>39.242500</td>\n",
       "      <td>20.855335</td>\n",
       "      <td>39.026904</td>\n",
       "      <td>...</td>\n",
       "      <td>41.552401</td>\n",
       "      <td>7.411665</td>\n",
       "      <td>755.522602</td>\n",
       "      <td>79.750418</td>\n",
       "      <td>4.039752</td>\n",
       "      <td>38.330834</td>\n",
       "      <td>3.760707</td>\n",
       "      <td>24.988033</td>\n",
       "      <td>24.988033</td>\n",
       "      <td>42907.129465</td>\n",
       "    </tr>\n",
       "    <tr>\n",
       "      <th>std</th>\n",
       "      <td>102.524891</td>\n",
       "      <td>7.935988</td>\n",
       "      <td>1.606066</td>\n",
       "      <td>3.979299</td>\n",
       "      <td>2.192974</td>\n",
       "      <td>4.069813</td>\n",
       "      <td>2.006111</td>\n",
       "      <td>3.254576</td>\n",
       "      <td>2.042884</td>\n",
       "      <td>4.341321</td>\n",
       "      <td>...</td>\n",
       "      <td>4.151497</td>\n",
       "      <td>5.317409</td>\n",
       "      <td>7.399441</td>\n",
       "      <td>14.901088</td>\n",
       "      <td>2.451221</td>\n",
       "      <td>11.794719</td>\n",
       "      <td>4.194648</td>\n",
       "      <td>14.496634</td>\n",
       "      <td>14.496634</td>\n",
       "      <td>24940.020831</td>\n",
       "    </tr>\n",
       "    <tr>\n",
       "      <th>min</th>\n",
       "      <td>10.000000</td>\n",
       "      <td>0.000000</td>\n",
       "      <td>16.790000</td>\n",
       "      <td>27.023333</td>\n",
       "      <td>16.100000</td>\n",
       "      <td>20.463333</td>\n",
       "      <td>17.200000</td>\n",
       "      <td>28.766667</td>\n",
       "      <td>15.100000</td>\n",
       "      <td>27.660000</td>\n",
       "      <td>...</td>\n",
       "      <td>29.166667</td>\n",
       "      <td>-5.000000</td>\n",
       "      <td>729.300000</td>\n",
       "      <td>24.000000</td>\n",
       "      <td>0.000000</td>\n",
       "      <td>1.000000</td>\n",
       "      <td>-6.600000</td>\n",
       "      <td>0.005322</td>\n",
       "      <td>0.005322</td>\n",
       "      <td>0.000000</td>\n",
       "    </tr>\n",
       "    <tr>\n",
       "      <th>25%</th>\n",
       "      <td>50.000000</td>\n",
       "      <td>0.000000</td>\n",
       "      <td>20.760000</td>\n",
       "      <td>37.333333</td>\n",
       "      <td>18.790000</td>\n",
       "      <td>37.900000</td>\n",
       "      <td>20.790000</td>\n",
       "      <td>36.900000</td>\n",
       "      <td>19.530000</td>\n",
       "      <td>35.530000</td>\n",
       "      <td>...</td>\n",
       "      <td>38.500000</td>\n",
       "      <td>3.666667</td>\n",
       "      <td>750.933333</td>\n",
       "      <td>70.333333</td>\n",
       "      <td>2.000000</td>\n",
       "      <td>29.000000</td>\n",
       "      <td>0.900000</td>\n",
       "      <td>12.497889</td>\n",
       "      <td>12.497889</td>\n",
       "      <td>21600.000000</td>\n",
       "    </tr>\n",
       "    <tr>\n",
       "      <th>50%</th>\n",
       "      <td>60.000000</td>\n",
       "      <td>0.000000</td>\n",
       "      <td>21.600000</td>\n",
       "      <td>39.656667</td>\n",
       "      <td>20.000000</td>\n",
       "      <td>40.500000</td>\n",
       "      <td>22.100000</td>\n",
       "      <td>38.530000</td>\n",
       "      <td>20.666667</td>\n",
       "      <td>38.400000</td>\n",
       "      <td>...</td>\n",
       "      <td>40.900000</td>\n",
       "      <td>6.916667</td>\n",
       "      <td>756.100000</td>\n",
       "      <td>83.666667</td>\n",
       "      <td>3.666667</td>\n",
       "      <td>40.000000</td>\n",
       "      <td>3.433333</td>\n",
       "      <td>24.897653</td>\n",
       "      <td>24.897653</td>\n",
       "      <td>43200.000000</td>\n",
       "    </tr>\n",
       "    <tr>\n",
       "      <th>75%</th>\n",
       "      <td>100.000000</td>\n",
       "      <td>0.000000</td>\n",
       "      <td>22.600000</td>\n",
       "      <td>43.066667</td>\n",
       "      <td>21.500000</td>\n",
       "      <td>43.260000</td>\n",
       "      <td>23.290000</td>\n",
       "      <td>41.760000</td>\n",
       "      <td>22.100000</td>\n",
       "      <td>42.156667</td>\n",
       "      <td>...</td>\n",
       "      <td>44.338095</td>\n",
       "      <td>10.408333</td>\n",
       "      <td>760.933333</td>\n",
       "      <td>91.666667</td>\n",
       "      <td>5.500000</td>\n",
       "      <td>40.000000</td>\n",
       "      <td>6.566667</td>\n",
       "      <td>37.583769</td>\n",
       "      <td>37.583769</td>\n",
       "      <td>64200.000000</td>\n",
       "    </tr>\n",
       "    <tr>\n",
       "      <th>max</th>\n",
       "      <td>1080.000000</td>\n",
       "      <td>70.000000</td>\n",
       "      <td>26.260000</td>\n",
       "      <td>63.360000</td>\n",
       "      <td>29.856667</td>\n",
       "      <td>56.026667</td>\n",
       "      <td>29.236000</td>\n",
       "      <td>50.163333</td>\n",
       "      <td>26.200000</td>\n",
       "      <td>51.090000</td>\n",
       "      <td>...</td>\n",
       "      <td>53.326667</td>\n",
       "      <td>26.100000</td>\n",
       "      <td>772.300000</td>\n",
       "      <td>100.000000</td>\n",
       "      <td>14.000000</td>\n",
       "      <td>66.000000</td>\n",
       "      <td>15.500000</td>\n",
       "      <td>49.996530</td>\n",
       "      <td>49.996530</td>\n",
       "      <td>85800.000000</td>\n",
       "    </tr>\n",
       "  </tbody>\n",
       "</table>\n",
       "<p>8 rows × 29 columns</p>\n",
       "</div>"
      ],
      "text/plain": [
       "         Appliances        lights            T1          RH_1            T2  \\\n",
       "count  19735.000000  19735.000000  19735.000000  19735.000000  19735.000000   \n",
       "mean      97.694958      3.801875     21.686571     40.259739     20.341219   \n",
       "std      102.524891      7.935988      1.606066      3.979299      2.192974   \n",
       "min       10.000000      0.000000     16.790000     27.023333     16.100000   \n",
       "25%       50.000000      0.000000     20.760000     37.333333     18.790000   \n",
       "50%       60.000000      0.000000     21.600000     39.656667     20.000000   \n",
       "75%      100.000000      0.000000     22.600000     43.066667     21.500000   \n",
       "max     1080.000000     70.000000     26.260000     63.360000     29.856667   \n",
       "\n",
       "               RH_2            T3          RH_3            T4          RH_4  \\\n",
       "count  19735.000000  19735.000000  19735.000000  19735.000000  19735.000000   \n",
       "mean      40.420420     22.267611     39.242500     20.855335     39.026904   \n",
       "std        4.069813      2.006111      3.254576      2.042884      4.341321   \n",
       "min       20.463333     17.200000     28.766667     15.100000     27.660000   \n",
       "25%       37.900000     20.790000     36.900000     19.530000     35.530000   \n",
       "50%       40.500000     22.100000     38.530000     20.666667     38.400000   \n",
       "75%       43.260000     23.290000     41.760000     22.100000     42.156667   \n",
       "max       56.026667     29.236000     50.163333     26.200000     51.090000   \n",
       "\n",
       "       ...          RH_9         T_out   Press_mm_hg        RH_out  \\\n",
       "count  ...  19735.000000  19735.000000  19735.000000  19735.000000   \n",
       "mean   ...     41.552401      7.411665    755.522602     79.750418   \n",
       "std    ...      4.151497      5.317409      7.399441     14.901088   \n",
       "min    ...     29.166667     -5.000000    729.300000     24.000000   \n",
       "25%    ...     38.500000      3.666667    750.933333     70.333333   \n",
       "50%    ...     40.900000      6.916667    756.100000     83.666667   \n",
       "75%    ...     44.338095     10.408333    760.933333     91.666667   \n",
       "max    ...     53.326667     26.100000    772.300000    100.000000   \n",
       "\n",
       "          Windspeed    Visibility     Tdewpoint           rv1           rv2  \\\n",
       "count  19735.000000  19735.000000  19735.000000  19735.000000  19735.000000   \n",
       "mean       4.039752     38.330834      3.760707     24.988033     24.988033   \n",
       "std        2.451221     11.794719      4.194648     14.496634     14.496634   \n",
       "min        0.000000      1.000000     -6.600000      0.005322      0.005322   \n",
       "25%        2.000000     29.000000      0.900000     12.497889     12.497889   \n",
       "50%        3.666667     40.000000      3.433333     24.897653     24.897653   \n",
       "75%        5.500000     40.000000      6.566667     37.583769     37.583769   \n",
       "max       14.000000     66.000000     15.500000     49.996530     49.996530   \n",
       "\n",
       "                NSM  \n",
       "count  19735.000000  \n",
       "mean   42907.129465  \n",
       "std    24940.020831  \n",
       "min        0.000000  \n",
       "25%    21600.000000  \n",
       "50%    43200.000000  \n",
       "75%    64200.000000  \n",
       "max    85800.000000  \n",
       "\n",
       "[8 rows x 29 columns]"
      ]
     },
     "execution_count": 6,
     "metadata": {},
     "output_type": "execute_result"
    }
   ],
   "source": [
    "df.describe()"
   ]
  },
  {
   "cell_type": "markdown",
   "metadata": {},
   "source": [
    "For a easily understand, let's separate the dataset as **numerical** and **categorical**. The criteria adopted was, if the variable has *less than 10 different values*, it will be considered categorical."
   ]
  },
  {
   "cell_type": "code",
   "execution_count": 7,
   "metadata": {},
   "outputs": [],
   "source": [
    "num = [name for name in df.columns if df[name].nunique() > 10]\n",
    "cat = [name for name in df.columns if df[name].nunique() < 10]\n",
    "df_num = df[num]\n",
    "df_cat = df[cat]"
   ]
  },
  {
   "cell_type": "code",
   "execution_count": 8,
   "metadata": {},
   "outputs": [],
   "source": [
    "#Formating columns Date and separate them into Month, Day and Hour\n",
    "df_num = df_num.sort_values(['date'], ascending=True)\n",
    "df_num['date'] = pd.to_datetime(df_num['date'], format='%Y-%m-%d %H:%M:%S')\n",
    "df_num['Year'] = df_num['date'].dt.year\n",
    "df_num['Month'] = df_num['date'].dt.month\n",
    "df_num['Day'] = df_num['date'].dt.day\n",
    "df_num['Hour'] = df_num['date'].dt.hour"
   ]
  },
  {
   "cell_type": "code",
   "execution_count": 9,
   "metadata": {},
   "outputs": [],
   "source": [
    "# Transform date column into index.\n",
    "df_num.index = pd.DatetimeIndex(df_num['date'])\n",
    "df_cat.index = pd.DatetimeIndex(df_num['date'])\n",
    "\n",
    "# Adding column 'Date' to future analysis\n",
    "df_num['date'] = df_num['date'].copy()"
   ]
  },
  {
   "cell_type": "markdown",
   "metadata": {},
   "source": [
    "### Plot power consumption by month"
   ]
  },
  {
   "cell_type": "code",
   "execution_count": 27,
   "metadata": {},
   "outputs": [
    {
     "data": {
      "image/png": "[encoded data removed]",
      "text/plain": [
       "<Figure size 576x576 with 1 Axes>"
      ]
     },
     "metadata": {
      "needs_background": "light"
     },
     "output_type": "display_data"
    },
    {
     "data": {
      "image/png": "[encoded data removed]",
      "text/plain": [
       "<Figure size 576x576 with 1 Axes>"
      ]
     },
     "metadata": {
      "needs_background": "light"
     },
     "output_type": "display_data"
    },
    {
     "data": {
      "image/png": "[encoded data removed]",
      "text/plain": [
       "<Figure size 576x576 with 1 Axes>"
      ]
     },
     "metadata": {
      "needs_background": "light"
     },
     "output_type": "display_data"
    },
    {
     "data": {
      "image/png": "[encoded data removed]",
      "text/plain": [
       "<Figure size 576x576 with 1 Axes>"
      ]
     },
     "metadata": {
      "needs_background": "light"
     },
     "output_type": "display_data"
    },
    {
     "data": {
      "image/png": "[encoded data removed]",
      "text/plain": [
       "<Figure size 576x576 with 1 Axes>"
      ]
     },
     "metadata": {
      "needs_background": "light"
     },
     "output_type": "display_data"
    }
   ],
   "source": [
    "for i in range(6):\n",
    "    if i == 1:\n",
    "        fig, ax1 = plt.subplots(figsize=(8, 8))\n",
    "        plot_1 = df_num[df_num['Month'] == 1]\n",
    "        mean_1 = plot_1['Appliances'].mean()\n",
    "        ax1.bar(plot_1['Day'], plot_1['Appliances'])\n",
    "        ax1.set_title('Power consumed in January')\n",
    "        ax1.axhline(mean_1, color='red', linewidth=2)\n",
    "        plt.xlabel(\"Date\")\n",
    "        plt.ylabel(\"Temperature\")\n",
    "        fig.autofmt_xdate()\n",
    "        \n",
    "    if i == 2:\n",
    "        fig, ax2 = plt.subplots(figsize=(8, 8))\n",
    "        plot_2 = df_num[df_num['Month'] == 2]\n",
    "        mean_2 = plot_2['Appliances'].mean()\n",
    "        ax2.bar(plot_2['Day'], plot_2['Appliances'])\n",
    "        ax2.set_title('Power consumed in February')\n",
    "        ax2.axhline(mean_2, color='red', linewidth=2)\n",
    "        plt.xlabel(\"Date\")\n",
    "        plt.ylabel(\"Temperature\")\n",
    "        fig.autofmt_xdate()\n",
    "        \n",
    "    if i == 3:\n",
    "        fig, ax3 = plt.subplots(figsize=(8, 8))\n",
    "        plot_3 = df_num[df_num['Month'] == 3]\n",
    "        mean_3 = plot_3['Appliances'].mean()\n",
    "        ax3.bar(plot_3['Day'], plot_3['Appliances'])\n",
    "        ax3.set_title('Power consumed in March')\n",
    "        ax3.axhline(mean_3, color='red', linewidth=2)\n",
    "        plt.xlabel(\"Date\")\n",
    "        plt.ylabel(\"Temperature\")\n",
    "        fig.autofmt_xdate()\n",
    "        \n",
    "    if i == 4:\n",
    "        fig, ax4 = plt.subplots(figsize=(8, 8))\n",
    "        plot_4 = df_num[df_num['Month'] == 4]\n",
    "        mean_4 = plot_4['Appliances'].mean()\n",
    "        ax4.bar(plot_4['Day'], plot_4['Appliances'])\n",
    "        ax4.set_title('Power consumed in April')\n",
    "        ax4.axhline(mean_4, color='red', linewidth=2)\n",
    "        plt.xlabel(\"Date\")\n",
    "        plt.ylabel(\"Temperature\")\n",
    "        fig.autofmt_xdate()\n",
    "        \n",
    "    if i == 5:\n",
    "        fig, ax5 = plt.subplots(figsize=(8, 8))\n",
    "        plot_5 = df_num[df_num['Month'] == 5]\n",
    "        mean_5 = plot_5['Appliances'].mean()\n",
    "        ax5.bar(plot_5['Day'], plot_5['Appliances'])\n",
    "        ax5.set_title('Power consumed in May')\n",
    "        ax5.axhline(mean_5, color='red', linewidth=2)\n",
    "        plt.xlabel(\"Date\")\n",
    "        plt.ylabel(\"Temperature\")\n",
    "        fig.autofmt_xdate()"
   ]
  },
  {
   "cell_type": "markdown",
   "metadata": {},
   "source": [
    "### Plot to visualize the outliers"
   ]
  },
  {
   "cell_type": "code",
   "execution_count": 28,
   "metadata": {},
   "outputs": [
    {
     "name": "stdout",
     "output_type": "stream",
     "text": [
      "2016-1 até 2016-5-01 23:00:00 com 2922 pontos\n"
     ]
    },
    {
     "data": {
      "image/png": "[encoded data removed]",
      "text/plain": [
       "<Figure size 2160x1440 with 1 Axes>"
      ]
     },
     "metadata": {
      "needs_background": "light"
     },
     "output_type": "display_data"
    }
   ],
   "source": [
    "year_start = str(df_num['Year'].min())\n",
    "month_start = str(df_num['Month'].min())\n",
    "day = int('01')\n",
    "# fim\n",
    "year_end = str(df_num['Year'].max())\n",
    "month_end = str(df_num['Month'].max())\n",
    "\n",
    "if day < 10:\n",
    "    date_start = year_start + '-' + month_start\n",
    "    date_end = year_end + '-' + month_end + '-' + '0' + str(day) + ' 23:00:00'\n",
    "else:\n",
    "    date_start = year_start + '-' + month_start\n",
    "    date_end = year_end + '-' + month_end + '-' + str(day) + ' 23:00:00'\n",
    "\n",
    "print(f'{date_start} até {date_end} com {len(df_num[date_start])} pontos')\n",
    "\n",
    "plt.subplots(figsize=(30, 20))\n",
    "sns.set(style=\"ticks\", color_codes=True)\n",
    "df_filter = df_num[date_start]\n",
    "df_filter = df_filter.drop(['date', 'NSM'], axis=1)\n",
    "df_filter.boxplot()\n",
    "plt.show()"
   ]
  },
  {
   "cell_type": "markdown",
   "metadata": {},
   "source": [
    "Analysing the outliers, we can remove data from \"Appliances\" that are greater than 150"
   ]
  },
  {
   "cell_type": "code",
   "execution_count": 29,
   "metadata": {},
   "outputs": [
    {
     "data": {
      "text/html": [
       "<div>\n",
       "<style scoped>\n",
       "    .dataframe tbody tr th:only-of-type {\n",
       "        vertical-align: middle;\n",
       "    }\n",
       "\n",
       "    .dataframe tbody tr th {\n",
       "        vertical-align: top;\n",
       "    }\n",
       "\n",
       "    .dataframe thead th {\n",
       "        text-align: right;\n",
       "    }\n",
       "</style>\n",
       "<table border=\"1\" class=\"dataframe\">\n",
       "  <thead>\n",
       "    <tr style=\"text-align: right;\">\n",
       "      <th></th>\n",
       "      <th>Appliances</th>\n",
       "      <th>T1</th>\n",
       "      <th>RH_1</th>\n",
       "      <th>T2</th>\n",
       "      <th>RH_2</th>\n",
       "      <th>T3</th>\n",
       "      <th>RH_3</th>\n",
       "      <th>T4</th>\n",
       "      <th>RH_4</th>\n",
       "      <th>T5</th>\n",
       "      <th>...</th>\n",
       "      <th>RH_9</th>\n",
       "      <th>T_out</th>\n",
       "      <th>Press_mm_hg</th>\n",
       "      <th>RH_out</th>\n",
       "      <th>Windspeed</th>\n",
       "      <th>Visibility</th>\n",
       "      <th>Tdewpoint</th>\n",
       "      <th>rv1</th>\n",
       "      <th>rv2</th>\n",
       "      <th>NSM</th>\n",
       "    </tr>\n",
       "  </thead>\n",
       "  <tbody>\n",
       "    <tr>\n",
       "      <th>0</th>\n",
       "      <td>60</td>\n",
       "      <td>19.89</td>\n",
       "      <td>47.596667</td>\n",
       "      <td>19.2</td>\n",
       "      <td>44.7900</td>\n",
       "      <td>19.79</td>\n",
       "      <td>44.73</td>\n",
       "      <td>19.0</td>\n",
       "      <td>45.566667</td>\n",
       "      <td>17.166667</td>\n",
       "      <td>...</td>\n",
       "      <td>45.53</td>\n",
       "      <td>6.600000</td>\n",
       "      <td>733.5</td>\n",
       "      <td>92.0</td>\n",
       "      <td>7.000000</td>\n",
       "      <td>63.000000</td>\n",
       "      <td>5.3</td>\n",
       "      <td>13.275433</td>\n",
       "      <td>13.275433</td>\n",
       "      <td>61200</td>\n",
       "    </tr>\n",
       "    <tr>\n",
       "      <th>1</th>\n",
       "      <td>60</td>\n",
       "      <td>19.89</td>\n",
       "      <td>46.693333</td>\n",
       "      <td>19.2</td>\n",
       "      <td>44.7225</td>\n",
       "      <td>19.79</td>\n",
       "      <td>44.79</td>\n",
       "      <td>19.0</td>\n",
       "      <td>45.992500</td>\n",
       "      <td>17.166667</td>\n",
       "      <td>...</td>\n",
       "      <td>45.56</td>\n",
       "      <td>6.483333</td>\n",
       "      <td>733.6</td>\n",
       "      <td>92.0</td>\n",
       "      <td>6.666667</td>\n",
       "      <td>59.166667</td>\n",
       "      <td>5.2</td>\n",
       "      <td>18.606195</td>\n",
       "      <td>18.606195</td>\n",
       "      <td>61800</td>\n",
       "    </tr>\n",
       "  </tbody>\n",
       "</table>\n",
       "<p>2 rows × 28 columns</p>\n",
       "</div>"
      ],
      "text/plain": [
       "   Appliances     T1       RH_1    T2     RH_2     T3   RH_3    T4       RH_4  \\\n",
       "0          60  19.89  47.596667  19.2  44.7900  19.79  44.73  19.0  45.566667   \n",
       "1          60  19.89  46.693333  19.2  44.7225  19.79  44.79  19.0  45.992500   \n",
       "\n",
       "          T5  ...   RH_9     T_out  Press_mm_hg  RH_out  Windspeed  \\\n",
       "0  17.166667  ...  45.53  6.600000        733.5    92.0   7.000000   \n",
       "1  17.166667  ...  45.56  6.483333        733.6    92.0   6.666667   \n",
       "\n",
       "   Visibility  Tdewpoint        rv1        rv2    NSM  \n",
       "0   63.000000        5.3  13.275433  13.275433  61200  \n",
       "1   59.166667        5.2  18.606195  18.606195  61800  \n",
       "\n",
       "[2 rows x 28 columns]"
      ]
     },
     "execution_count": 29,
     "metadata": {},
     "output_type": "execute_result"
    }
   ],
   "source": [
    "df_num_v1 = df_num[df_num['Appliances'] < 150.0]\n",
    "df_num_v1 = df_num_v1.drop(['Year', 'Month', 'Day', 'Hour', 'date'], axis=1)\n",
    "\n",
    "# Reset index\n",
    "df_num_v1.reset_index(drop=True, inplace=True)\n",
    "df_num_v1.index\n",
    "\n",
    "df_num_v1.head(2)"
   ]
  },
  {
   "cell_type": "markdown",
   "metadata": {},
   "source": [
    "## Correlation"
   ]
  },
  {
   "cell_type": "code",
   "execution_count": 30,
   "metadata": {},
   "outputs": [
    {
     "data": {
      "text/plain": [
       "<matplotlib.axes._subplots.AxesSubplot at 0x2146c07b9e8>"
      ]
     },
     "execution_count": 30,
     "metadata": {},
     "output_type": "execute_result"
    },
    {
     "data": {
      "image/png": "[encoded data removed]",
      "text/plain": [
       "<Figure size 1080x720 with 2 Axes>"
      ]
     },
     "metadata": {},
     "output_type": "display_data"
    }
   ],
   "source": [
    "plt.figure(figsize = (15,10))\n",
    "sns.heatmap(df_num_v1.corr(), cmap=\"Blues\")"
   ]
  },
  {
   "cell_type": "code",
   "execution_count": 31,
   "metadata": {},
   "outputs": [
    {
     "data": {
      "text/plain": [
       "Appliances    1.000000\n",
       "T1            0.266959\n",
       "T2            0.277459\n",
       "T4            0.211871\n",
       "T5            0.205815\n",
       "T6            0.233250\n",
       "RH_6          0.255907\n",
       "T8            0.288726\n",
       "RH_8          0.229389\n",
       "RH_9          0.212781\n",
       "T_out         0.224154\n",
       "RH_out        0.266875\n",
       "NSM           0.426494\n",
       "Name: Appliances, dtype: float64"
      ]
     },
     "execution_count": 31,
     "metadata": {},
     "output_type": "execute_result"
    }
   ],
   "source": [
    "#Correlation with output variable\n",
    "cor_target = abs(df_num_v1.corr()[\"Appliances\"])\n",
    "\n",
    "#Selecting highly correlated features\n",
    "relevant_features = cor_target[cor_target > 0.2]\n",
    "relevant_features"
   ]
  },
  {
   "cell_type": "code",
   "execution_count": 32,
   "metadata": {},
   "outputs": [],
   "source": [
    "# Encode the variables that are string\n",
    "lb = LabelEncoder()\n",
    "\n",
    "#Adjusting columns into categorical\n",
    "df['WeekStatus'] = lb.fit_transform(df['WeekStatus'])\n",
    "df['Day_of_week'] = lb.fit_transform(df['Day_of_week'])\n",
    "df_v1 = df[df['Appliances'] < 150.0]"
   ]
  },
  {
   "cell_type": "markdown",
   "metadata": {},
   "source": [
    "## Normalizing data"
   ]
  },
  {
   "cell_type": "code",
   "execution_count": 33,
   "metadata": {},
   "outputs": [],
   "source": [
    "#Separating target variable\n",
    "df_v2_target = df_v1['Appliances']\n",
    "df_v2 = df_v1.drop(['Appliances','date'], axis=1)"
   ]
  },
  {
   "cell_type": "code",
   "execution_count": 34,
   "metadata": {},
   "outputs": [
    {
     "data": {
      "text/html": [
       "<div>\n",
       "<style scoped>\n",
       "    .dataframe tbody tr th:only-of-type {\n",
       "        vertical-align: middle;\n",
       "    }\n",
       "\n",
       "    .dataframe tbody tr th {\n",
       "        vertical-align: top;\n",
       "    }\n",
       "\n",
       "    .dataframe thead th {\n",
       "        text-align: right;\n",
       "    }\n",
       "</style>\n",
       "<table border=\"1\" class=\"dataframe\">\n",
       "  <thead>\n",
       "    <tr style=\"text-align: right;\">\n",
       "      <th></th>\n",
       "      <th>lights</th>\n",
       "      <th>T1</th>\n",
       "      <th>RH_1</th>\n",
       "      <th>T2</th>\n",
       "      <th>RH_2</th>\n",
       "      <th>T3</th>\n",
       "      <th>RH_3</th>\n",
       "      <th>T4</th>\n",
       "      <th>RH_4</th>\n",
       "      <th>T5</th>\n",
       "      <th>...</th>\n",
       "      <th>Press_mm_hg</th>\n",
       "      <th>RH_out</th>\n",
       "      <th>Windspeed</th>\n",
       "      <th>Visibility</th>\n",
       "      <th>Tdewpoint</th>\n",
       "      <th>rv1</th>\n",
       "      <th>rv2</th>\n",
       "      <th>NSM</th>\n",
       "      <th>WeekStatus</th>\n",
       "      <th>Day_of_week</th>\n",
       "    </tr>\n",
       "  </thead>\n",
       "  <tbody>\n",
       "    <tr>\n",
       "      <th>0</th>\n",
       "      <td>0.533117</td>\n",
       "      <td>-0.192591</td>\n",
       "      <td>0.229042</td>\n",
       "      <td>-0.078426</td>\n",
       "      <td>0.121150</td>\n",
       "      <td>-0.20437</td>\n",
       "      <td>0.266728</td>\n",
       "      <td>-0.167153</td>\n",
       "      <td>0.282310</td>\n",
       "      <td>-0.233112</td>\n",
       "      <td>...</td>\n",
       "      <td>-0.514897</td>\n",
       "      <td>0.153227</td>\n",
       "      <td>0.217102</td>\n",
       "      <td>0.380114</td>\n",
       "      <td>0.070016</td>\n",
       "      <td>-0.234870</td>\n",
       "      <td>-0.234870</td>\n",
       "      <td>0.228904</td>\n",
       "      <td>-0.277049</td>\n",
       "      <td>-0.347347</td>\n",
       "    </tr>\n",
       "    <tr>\n",
       "      <th>1</th>\n",
       "      <td>0.533117</td>\n",
       "      <td>-0.192591</td>\n",
       "      <td>0.201341</td>\n",
       "      <td>-0.078426</td>\n",
       "      <td>0.119252</td>\n",
       "      <td>-0.20437</td>\n",
       "      <td>0.269601</td>\n",
       "      <td>-0.167153</td>\n",
       "      <td>0.300554</td>\n",
       "      <td>-0.233112</td>\n",
       "      <td>...</td>\n",
       "      <td>-0.512564</td>\n",
       "      <td>0.153227</td>\n",
       "      <td>0.193292</td>\n",
       "      <td>0.321139</td>\n",
       "      <td>0.065491</td>\n",
       "      <td>-0.128237</td>\n",
       "      <td>-0.128237</td>\n",
       "      <td>0.235897</td>\n",
       "      <td>-0.277049</td>\n",
       "      <td>-0.347347</td>\n",
       "    </tr>\n",
       "  </tbody>\n",
       "</table>\n",
       "<p>2 rows × 30 columns</p>\n",
       "</div>"
      ],
      "text/plain": [
       "     lights        T1      RH_1        T2      RH_2       T3      RH_3  \\\n",
       "0  0.533117 -0.192591  0.229042 -0.078426  0.121150 -0.20437  0.266728   \n",
       "1  0.533117 -0.192591  0.201341 -0.078426  0.119252 -0.20437  0.269601   \n",
       "\n",
       "         T4      RH_4        T5  ...  Press_mm_hg    RH_out  Windspeed  \\\n",
       "0 -0.167153  0.282310 -0.233112  ...    -0.514897  0.153227   0.217102   \n",
       "1 -0.167153  0.300554 -0.233112  ...    -0.512564  0.153227   0.193292   \n",
       "\n",
       "   Visibility  Tdewpoint       rv1       rv2       NSM  WeekStatus  \\\n",
       "0    0.380114   0.070016 -0.234870 -0.234870  0.228904   -0.277049   \n",
       "1    0.321139   0.065491 -0.128237 -0.128237  0.235897   -0.277049   \n",
       "\n",
       "   Day_of_week  \n",
       "0    -0.347347  \n",
       "1    -0.347347  \n",
       "\n",
       "[2 rows x 30 columns]"
      ]
     },
     "execution_count": 34,
     "metadata": {},
     "output_type": "execute_result"
    }
   ],
   "source": [
    "# Normalizing dataset\n",
    "df_norm2 = (df_v2 - df_v2.mean()) / (df_v2.max() - df_v2.min())"
   ]
  },
  {
   "cell_type": "markdown",
   "metadata": {},
   "source": [
    "## Feature Selection"
   ]
  },
  {
   "cell_type": "code",
   "execution_count": 37,
   "metadata": {},
   "outputs": [],
   "source": [
    "# Removing variables before fit the model\n",
    "new_df_norm = df_norm2.drop(['rv1', 'rv2', 'Visibility', 'Press_mm_hg','Tdewpoint'], axis=1)\n",
    "\n",
    "#Separating target variable for train dataframe\n",
    "X_array = np.array(new_df_norm)\n",
    "y_array = np.array(df_v2_target)\n",
    "\n",
    "#Separating train and test data\n",
    "X_train, X_test, y_train, y_test = train_test_split(X_array, y_array, train_size=0.7)"
   ]
  },
  {
   "cell_type": "code",
   "execution_count": 41,
   "metadata": {},
   "outputs": [
    {
     "name": "stdout",
     "output_type": "stream",
     "text": [
      "Feature: 0, Score: 0.03302\n",
      "Feature: 1, Score: 0.01811\n",
      "Feature: 2, Score: 0.02112\n",
      "Feature: 3, Score: 0.02180\n",
      "Feature: 4, Score: 0.02321\n",
      "Feature: 5, Score: 0.01899\n",
      "Feature: 6, Score: 0.02117\n",
      "Feature: 7, Score: 0.02258\n",
      "Feature: 8, Score: 0.01877\n",
      "Feature: 9, Score: 0.02209\n",
      "Feature: 10, Score: 0.02900\n",
      "Feature: 11, Score: 0.02180\n",
      "Feature: 12, Score: 0.03195\n",
      "Feature: 13, Score: 0.02626\n",
      "Feature: 14, Score: 0.01794\n",
      "Feature: 15, Score: 0.09208\n",
      "Feature: 16, Score: 0.02473\n",
      "Feature: 17, Score: 0.03125\n",
      "Feature: 18, Score: 0.03002\n",
      "Feature: 19, Score: 0.02223\n",
      "Feature: 20, Score: 0.02448\n",
      "Feature: 21, Score: 0.01882\n",
      "Feature: 22, Score: 0.38054\n",
      "Feature: 23, Score: 0.01451\n",
      "Feature: 24, Score: 0.01352\n"
     ]
    },
    {
     "data": {
      "image/png": "[encoded data removed]",
      "text/plain": [
       "<Figure size 432x288 with 1 Axes>"
      ]
     },
     "metadata": {},
     "output_type": "display_data"
    }
   ],
   "source": [
    "# random forest for feature importance on a regression problem\n",
    "model = RandomForestRegressor()\n",
    "\n",
    "# fit the model\n",
    "model.fit(X_array, y_array)\n",
    "\n",
    "# get importance\n",
    "importance = model.feature_importances_\n",
    "\n",
    "# summarize feature importance\n",
    "for i,v in enumerate(importance):\n",
    "    print('Feature: %0d, Score: %.5f' % (i,v))\n",
    "    \n",
    "# plot feature importance\n",
    "plt.bar([x for x in range(len(importance))], importance)\n",
    "plt.show()"
   ]
  },
  {
   "cell_type": "markdown",
   "metadata": {},
   "source": [
    "## Predictive Analysis"
   ]
  },
  {
   "cell_type": "markdown",
   "metadata": {},
   "source": [
    "1) Gradient Boosting Regressor"
   ]
  },
  {
   "cell_type": "code",
   "execution_count": 45,
   "metadata": {},
   "outputs": [
    {
     "name": "stdout",
     "output_type": "stream",
     "text": [
      "R2 SCORE: 0.7044533450383282\n"
     ]
    }
   ],
   "source": [
    "params = {'n_estimators': 500, 'max_depth': 8, 'min_samples_split': 2,\n",
    "          'learning_rate': 0.01, 'loss': 'ls'}\n",
    "model_v1 = ensemble.GradientBoostingRegressor(**params)\n",
    "\n",
    "model_v1.fit(X_train, y_train)\n",
    "y_pred = model_v1.predict(X_test)\n",
    "mse = mean_squared_error(y_test, y_pred)\n",
    "r2score = r2_score(y_test, y_pred)\n",
    "print(f\"R2 SCORE: {r2score}\")"
   ]
  },
  {
   "cell_type": "markdown",
   "metadata": {},
   "source": [
    "2) Support Vector Regression"
   ]
  },
  {
   "cell_type": "code",
   "execution_count": 47,
   "metadata": {},
   "outputs": [
    {
     "name": "stdout",
     "output_type": "stream",
     "text": [
      "R2 SCORE: 0.40585495932435556\n"
     ]
    }
   ],
   "source": [
    "model_v2 = SVR()\n",
    "model_v2.fit(X_train, y_train)\n",
    "y_pred = model_v2.predict(X_test)\n",
    "r2score_v2 =  r2_score(y_test, y_pred)\n",
    "print(f\"R2 SCORE: {r2score_v2}\")"
   ]
  },
  {
   "cell_type": "markdown",
   "metadata": {},
   "source": [
    "3) Linear Regression"
   ]
  },
  {
   "cell_type": "code",
   "execution_count": 48,
   "metadata": {},
   "outputs": [
    {
     "name": "stdout",
     "output_type": "stream",
     "text": [
      "R2 SCORE: 0.36847786034013674\n"
     ]
    }
   ],
   "source": [
    "model_v3 = LinearRegression()\n",
    "model_v3.fit(X_train, y_train)\n",
    "y_pred = model_v3.predict(X_test)\n",
    "\n",
    "r2score_v3 =  r2_score(y_test, y_pred)\n",
    "print(f\"R2 SCORE: {r2score_v3}\")"
   ]
  },
  {
   "cell_type": "markdown",
   "metadata": {},
   "source": [
    "### Conclusion"
   ]
  },
  {
   "cell_type": "markdown",
   "metadata": {},
   "source": [
    "- The best model for this dataset is Gradient Boosting Regressor. It has an accurancy of 70%\n",
    "- It will be necessary more data to increase the accuracy of the model"
   ]
  }
 ],
 "metadata": {
  "kernelspec": {
   "display_name": "Python 3",
   "language": "python",
   "name": "python3"
  },
  "language_info": {
   "codemirror_mode": {
    "name": "ipython",
    "version": 3
   },
   "file_extension": ".py",
   "mimetype": "text/x-python",
   "name": "python",
   "nbconvert_exporter": "python",
   "pygments_lexer": "ipython3",
   "version": "3.6.5"
  }
 },
 "nbformat": 4,
 "nbformat_minor": 4
}
